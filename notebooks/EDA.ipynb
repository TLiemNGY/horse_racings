{
 "cells": [
  {
   "cell_type": "code",
   "execution_count": 1,
   "metadata": {},
   "outputs": [],
   "source": [
    "import pandas as pd\n",
    "import seaborn as sns"
   ]
  },
  {
   "cell_type": "code",
   "execution_count": 2,
   "metadata": {},
   "outputs": [],
   "source": [
    "pd.set_option('display.max_columns', None)"
   ]
  },
  {
   "cell_type": "markdown",
   "metadata": {},
   "source": [
    "### RUNS.CSV"
   ]
  },
  {
   "cell_type": "code",
   "execution_count": null,
   "metadata": {},
   "outputs": [],
   "source": [
    "df_runs = pd.read_csv(\"../data/raw/runs.csv\")\n",
    "df_runs.head(15)"
   ]
  },
  {
   "cell_type": "code",
   "execution_count": null,
   "metadata": {},
   "outputs": [],
   "source": [
    "df_runs.info()"
   ]
  },
  {
   "cell_type": "code",
   "execution_count": 5,
   "metadata": {},
   "outputs": [],
   "source": [
    "df_for_prediction = df_runs.drop(columns =['finish_time','horse_no'])\n",
    "df_for_prediction = df_for_prediction.drop(columns =['position_sec1','position_sec2','position_sec3','position_sec4','position_sec5','position_sec6'])\n",
    "df_for_prediction = df_for_prediction.drop(columns =['behind_sec1','behind_sec2','behind_sec3','behind_sec4','behind_sec5','behind_sec6'])\n",
    "df_for_prediction = df_for_prediction.drop(columns =['time1','time2','time3','time4','time5','time6'])\n"
   ]
  },
  {
   "cell_type": "code",
   "execution_count": null,
   "metadata": {},
   "outputs": [],
   "source": [
    "df_for_prediction"
   ]
  },
  {
   "cell_type": "code",
   "execution_count": null,
   "metadata": {},
   "outputs": [],
   "source": [
    "df_for_prediction.query(\"horse_gear == '--'\").count()"
   ]
  },
  {
   "cell_type": "code",
   "execution_count": null,
   "metadata": {},
   "outputs": [],
   "source": [
    "df_for_prediction.info()"
   ]
  },
  {
   "cell_type": "markdown",
   "metadata": {},
   "source": [
    "### RACES.CSV"
   ]
  },
  {
   "cell_type": "code",
   "execution_count": null,
   "metadata": {},
   "outputs": [],
   "source": [
    "df_races = pd.read_csv(\"../data/raw/races.csv\")\n",
    "\n",
    "df_races = df_races.drop(columns =['sec_time1','sec_time2','sec_time3','sec_time4','sec_time5','sec_time6', 'sec_time7'])\n",
    "df_races = df_races.drop(columns =['time1','time2','time3','time4','time5','time6', 'time7'])\n",
    "\n",
    "df_races"
   ]
  },
  {
   "cell_type": "code",
   "execution_count": null,
   "metadata": {},
   "outputs": [],
   "source": [
    "df_races['date'] = pd.to_datetime(df_races['date'])\n",
    "df_races.info()"
   ]
  },
  {
   "cell_type": "code",
   "execution_count": null,
   "metadata": {},
   "outputs": [],
   "source": [
    "print(df_races['date'].min())\n",
    "print(df_races['date'].max())"
   ]
  },
  {
   "cell_type": "code",
   "execution_count": null,
   "metadata": {},
   "outputs": [],
   "source": [
    "print(df_races['prize'].min())\n",
    "print(df_races['prize'].max())"
   ]
  },
  {
   "cell_type": "code",
   "execution_count": null,
   "metadata": {},
   "outputs": [],
   "source": [
    "df_races.tail()"
   ]
  },
  {
   "cell_type": "code",
   "execution_count": null,
   "metadata": {},
   "outputs": [],
   "source": [
    "df_races['surface'].unique()"
   ]
  },
  {
   "cell_type": "code",
   "execution_count": null,
   "metadata": {},
   "outputs": [],
   "source": [
    "df_races['race_no'].unique()"
   ]
  },
  {
   "cell_type": "markdown",
   "metadata": {},
   "source": [
    "Faire un seul dataframe possédant une ligne par produit cartésien cheval x course "
   ]
  },
  {
   "cell_type": "code",
   "execution_count": null,
   "metadata": {},
   "outputs": [],
   "source": [
    "df = pd.merge(df_races,df_for_prediction, on='race_id', how='inner')\n",
    "\n",
    "df.head()"
   ]
  },
  {
   "cell_type": "markdown",
   "metadata": {},
   "source": [
    "race_id : put in index\n",
    "date : remove but keep rows in order\n",
    "venue : one hot encoding\n",
    "race_no : remove\n",
    "config : ? remove ?\n",
    "surface : one hot encoding\n",
    "distance : one hot encoding\n",
    "going : ? keep ?\n",
    "horse_ratings : always the same ?\n",
    "prize : remove (we will use that information in the process but not in the prediction)\n",
    "race_class : what is it ?\n",
    "place_combination1,2,3 : remove (info for the y axis)\n",
    "place_combination4 : remove\n",
    "place_dividend1,2,3 : remove (info for the y axis) > make 2 analysis after, based on if the horse is placed or not based on statistics\n",
    "place_dividend4 : remove\n",
    "win_comlbination1 : remove (info for the y axis)\n",
    "win_dividend1 : remove (info for the y axis)\n",
    "win_combination2 : remove (cas particulier)\n",
    "win_dividend2 : remove (cas particulier)\n",
    "horse_id : c'est notre y\n",
    "result : c'est notre y ? (faire une métrique genre average ranking over the last 30 races)\n",
    "won : c'est notre y\n",
    "lengths_behind : keep but metric (average lenghts behind over the last 30 races)\n",
    "horse_age : keep\n",
    "horse_country : one hot encoding but why not remove\n",
    "horse_rating : always the same ?\n",
    "horse_gear: always blank ?\n",
    "declared_weight : keep\n",
    "actual_weight : keep\n",
    "draw : ?\n",
    "win_odds : keep\n",
    "place_odds : keep \n",
    "trainer_id : keep one hot\n",
    "jockey_id : keep one hot"
   ]
  },
  {
   "cell_type": "code",
   "execution_count": null,
   "metadata": {},
   "outputs": [],
   "source": [
    "df['distance'].unique()"
   ]
  },
  {
   "cell_type": "code",
   "execution_count": null,
   "metadata": {},
   "outputs": [],
   "source": [
    "mask = df[df['race_id'] == 0]\n",
    "\n",
    "mask"
   ]
  },
  {
   "cell_type": "code",
   "execution_count": null,
   "metadata": {},
   "outputs": [],
   "source": [
    "race_counts = df['race_id'].value_counts()\n",
    "average_rows_per_race = race_counts.mean()\n",
    "print(\"Average number of rows per unique race_id:\", average_rows_per_race)"
   ]
  },
  {
   "cell_type": "markdown",
   "metadata": {},
   "source": [
    "garder cette formulation en tête"
   ]
  },
  {
   "cell_type": "code",
   "execution_count": null,
   "metadata": {},
   "outputs": [],
   "source": [
    "df.query(\"race_id == 0 and venue == 'ST'\")"
   ]
  },
  {
   "cell_type": "markdown",
   "metadata": {},
   "source": [
    "un cheval participe t'il à plusieurs courses au sein de la même journée"
   ]
  },
  {
   "cell_type": "code",
   "execution_count": null,
   "metadata": {},
   "outputs": [],
   "source": [
    "duplicates = df.groupby(['date', 'horse_id']).size().reset_index(name='count')\n",
    "\n",
    "# Filter rows where count is greater than 1\n",
    "duplicates = duplicates[duplicates['count'] > 1]\n",
    "\n",
    "# Display result\n",
    "print(duplicates)"
   ]
  },
  {
   "cell_type": "markdown",
   "metadata": {},
   "source": [
    "non"
   ]
  },
  {
   "cell_type": "code",
   "execution_count": null,
   "metadata": {},
   "outputs": [],
   "source": [
    "print(df['surface'].nunique())\n",
    "print(df['distance'].nunique())\n",
    "print(df['going'].nunique())\n",
    "print(df['horse_country'].nunique())\n",
    "print(df['horse_type'].nunique())\n",
    "print(df['horse_gear'].nunique())\n",
    "print(df['trainer_id'].nunique())\n",
    "print(df['jockey_id'].nunique())\n",
    "print(df['horse_id'].nunique())\n"
   ]
  },
  {
   "cell_type": "markdown",
   "metadata": {},
   "source": [
    "going c l'état de la piste"
   ]
  },
  {
   "cell_type": "code",
   "execution_count": null,
   "metadata": {},
   "outputs": [],
   "source": [
    "df['going'].unique()"
   ]
  },
  {
   "cell_type": "code",
   "execution_count": 24,
   "metadata": {},
   "outputs": [],
   "source": [
    "df = df.drop(columns=['date','race_no','horse_ratings','prize','result',\n",
    "                                         'place_combination1','place_combination2','place_combination3','place_combination4','place_dividend1','place_dividend2','place_dividend3','place_dividend4',\n",
    "                                         'win_combination1','win_dividend1','win_combination2','win_dividend2',\n",
    "                                         'lengths_behind','horse_gear','trainer_id','jockey_id'])\n",
    "# réintégrer trainer_id et jockey_id en categorical"
   ]
  },
  {
   "cell_type": "code",
   "execution_count": null,
   "metadata": {},
   "outputs": [],
   "source": [
    "df.set_index(\"race_id\",inplace=True)\n",
    "df"
   ]
  },
  {
   "cell_type": "code",
   "execution_count": null,
   "metadata": {},
   "outputs": [],
   "source": [
    "df = pd.get_dummies(df, columns=['venue','config','race_class','surface', 'distance', 'going', 'horse_country', 'horse_type'], dtype=int, drop_first=True)\n",
    "df\n"
   ]
  },
  {
   "cell_type": "code",
   "execution_count": null,
   "metadata": {},
   "outputs": [],
   "source": [
    "df['place_odds'].fillna(0, inplace=True)"
   ]
  },
  {
   "cell_type": "code",
   "execution_count": 28,
   "metadata": {},
   "outputs": [],
   "source": [
    "train_ratio = 0.8\n",
    "split_index = int(len(df)*train_ratio)\n",
    "\n",
    "df_train = df.iloc[:split_index]\n",
    "df_test = df.iloc[split_index:]\n"
   ]
  },
  {
   "cell_type": "code",
   "execution_count": null,
   "metadata": {},
   "outputs": [],
   "source": [
    "df_test"
   ]
  },
  {
   "cell_type": "code",
   "execution_count": 30,
   "metadata": {},
   "outputs": [],
   "source": [
    "df_train_original = df_train.copy()\n",
    "df_test_original = df_test.copy()\n",
    "\n",
    "y_train = df_train['won']\n",
    "X_train = df_train.drop(columns=['won','horse_id'])\n",
    "\n",
    "y_test = df_test['won']\n",
    "X_test = df_test.drop(columns=['won','horse_id'])"
   ]
  },
  {
   "cell_type": "code",
   "execution_count": null,
   "metadata": {},
   "outputs": [],
   "source": [
    "X_train.head()"
   ]
  },
  {
   "cell_type": "code",
   "execution_count": null,
   "metadata": {},
   "outputs": [],
   "source": [
    "X_test.head()"
   ]
  },
  {
   "cell_type": "code",
   "execution_count": 33,
   "metadata": {},
   "outputs": [],
   "source": [
    "from sklearn.linear_model import LinearRegression\n",
    "\n",
    "model = LinearRegression()\n",
    "model.fit(X_train,y_train)\n",
    "\n",
    "y_predict = model.predict(X_test)"
   ]
  },
  {
   "cell_type": "code",
   "execution_count": null,
   "metadata": {},
   "outputs": [],
   "source": [
    "y_predict"
   ]
  },
  {
   "cell_type": "code",
   "execution_count": null,
   "metadata": {},
   "outputs": [],
   "source": [
    "import matplotlib.pyplot as plt\n",
    "# plt.hist(y_predict, density=True)\n",
    "\n",
    "import seaborn as sns\n",
    "sns.kdeplot(y_predict)"
   ]
  },
  {
   "cell_type": "markdown",
   "metadata": {},
   "source": [
    "merge le y_predict en prenant le max pour chacune des courses pour donner un gagnant puis faire de la classif ? ou faire de la classif d'abord"
   ]
  },
  {
   "cell_type": "code",
   "execution_count": 36,
   "metadata": {},
   "outputs": [],
   "source": [
    "df = df_test_original.copy()\n",
    "df['y_predict'] = y_predict\n",
    "df_stats = df.copy()\n",
    "\n",
    "df_stats['max_prediction'] = df_stats.groupby(level=0)['y_predict'].transform('max')\n",
    "df_stats['top_prediction'] = (df_stats['y_predict'] == df_stats['max_prediction']).astype(int)\n",
    "df_stats.drop(columns=['max_prediction'],inplace=True)\n"
   ]
  },
  {
   "cell_type": "code",
   "execution_count": null,
   "metadata": {},
   "outputs": [],
   "source": [
    "pd.reset_option('display.max_rows')\n",
    "df_stats = df_stats[['horse_id','won','y_predict','top_prediction']]\n",
    "df_stats.head()\n"
   ]
  },
  {
   "cell_type": "code",
   "execution_count": 38,
   "metadata": {},
   "outputs": [],
   "source": [
    "df_stats['won'] = df_stats['won'].astype(int)"
   ]
  },
  {
   "cell_type": "code",
   "execution_count": null,
   "metadata": {},
   "outputs": [],
   "source": [
    "df_stats.info()"
   ]
  },
  {
   "cell_type": "code",
   "execution_count": null,
   "metadata": {},
   "outputs": [],
   "source": [
    "#pd.set_option('display.max_rows', None)\n",
    "pd.reset_option('display.max_rows')\n",
    "\n",
    "df_stats['accuracy'] = ((df_stats['won'] == 1) & (df_stats['top_prediction'] == 1))\n",
    "df_stats"
   ]
  },
  {
   "cell_type": "code",
   "execution_count": 41,
   "metadata": {},
   "outputs": [],
   "source": [
    "total_races = df_stats.index.nunique()\n",
    "\n",
    "correct_prediction_races = df_stats.groupby(df_stats.index)['accuracy'].max().sum()\n",
    "accuracy = (correct_prediction_races / total_races) * 100\n"
   ]
  },
  {
   "cell_type": "code",
   "execution_count": null,
   "metadata": {},
   "outputs": [],
   "source": [
    "print(f\"Précision basée sur les courses : {accuracy:.2f}%\")"
   ]
  },
  {
   "cell_type": "markdown",
   "metadata": {},
   "source": [
    "Test du refacto"
   ]
  },
  {
   "cell_type": "code",
   "execution_count": null,
   "metadata": {},
   "outputs": [],
   "source": [
    "import pandas as pd\n",
    "\n",
    "def prepare_predictions(df_test_original, y_predict):\n",
    "    \"\"\"\n",
    "    Crée une copie du DataFrame de test et ajoute les prédictions.\n",
    "    \"\"\"\n",
    "    df = df_test_original.copy()\n",
    "    df['y_predict'] = y_predict\n",
    "    return df\n",
    "\n",
    "def compute_top_prediction(df):\n",
    "    \"\"\"\n",
    "    Détermine le cheval avec la meilleure prédiction par course.\n",
    "    \"\"\"\n",
    "    df['max_prediction'] = df.groupby(level=0)['y_predict'].transform('max')\n",
    "    df['top_prediction'] = (df['y_predict'] == df['max_prediction']).astype(int)\n",
    "    df.drop(columns=['max_prediction'], inplace=True)\n",
    "    return df\n",
    "\n",
    "def finalize_dataframe(df):\n",
    "    \"\"\"\n",
    "    Réorganise le DataFrame et assure le bon format des données.\n",
    "    \"\"\"\n",
    "    df = df[['horse_id', 'won', 'y_predict', 'top_prediction']]\n",
    "    df['won'] = df['won'].astype(int)\n",
    "    return df\n",
    "\n",
    "def compute_accuracy(df):\n",
    "    \"\"\"\n",
    "    Calcule l'accuracy des prédictions sur les courses.\n",
    "    \"\"\"\n",
    "    df['accuracy'] = ((df['won'] == 1) & (df['top_prediction'] == 1))\n",
    "    \n",
    "    total_races = df.index.nunique()\n",
    "    correct_prediction_races = df.groupby(df.index)['accuracy'].max().sum()\n",
    "    \n",
    "    accuracy = (correct_prediction_races / total_races) * 100\n",
    "    return accuracy\n",
    "\n",
    "# 📌 Utilisation des fonctions pour comparer avec ta méthode actuelle\n",
    "df = prepare_predictions(df_test_original, y_predict)\n",
    "df = compute_top_prediction(df)\n",
    "df_stats = finalize_dataframe(df)\n",
    "\n",
    "accuracy = compute_accuracy(df_stats)\n",
    "\n",
    "print(f\"✅ Précision basée sur les courses : {accuracy:.2f}%\")\n"
   ]
  },
  {
   "cell_type": "markdown",
   "metadata": {},
   "source": [
    "XGBCLASSIFIER"
   ]
  },
  {
   "cell_type": "code",
   "execution_count": null,
   "metadata": {},
   "outputs": [],
   "source": [
    "pip install xgboost"
   ]
  },
  {
   "cell_type": "code",
   "execution_count": 45,
   "metadata": {},
   "outputs": [],
   "source": [
    "import xgboost\n",
    "from xgboost import XGBRegressor\n",
    "\n",
    "xgb = XGBRegressor()\n",
    "xgb.fit(X_train,y_train)\n",
    "\n",
    "y_xgb_predict = xgb.predict(X_test)"
   ]
  },
  {
   "cell_type": "code",
   "execution_count": null,
   "metadata": {},
   "outputs": [],
   "source": [
    "import matplotlib.pyplot as plt\n",
    "# plt.hist(y_predict, density=True)\n",
    "\n",
    "import seaborn as sns\n",
    "sns.kdeplot(y_xgb_predict)"
   ]
  },
  {
   "cell_type": "code",
   "execution_count": null,
   "metadata": {},
   "outputs": [],
   "source": [
    "df_stats['y_xgb_predict'] = y_xgb_predict\n",
    "\n",
    "df_stats['max_xgb_prediction'] = df_stats.groupby(level=0)['y_xgb_predict'].transform('max')\n",
    "df_stats['top_xgb_prediction'] = (df_stats['y_xgb_predict'] == df_stats['max_xgb_prediction']).astype(int)\n",
    "df_stats.drop(columns=['max_xgb_prediction'],inplace=True)\n",
    "df_stats = df_stats[['horse_id','won','y_xgb_predict','top_xgb_prediction']]\n",
    "df_stats.head()"
   ]
  },
  {
   "cell_type": "code",
   "execution_count": 48,
   "metadata": {},
   "outputs": [],
   "source": [
    "df_stats['accuracy_xgb'] = ((df_stats['won'] == 1) & (df_stats['top_xgb_prediction'] == 1))\n",
    "total_races = df_stats.index.nunique()\n",
    "correct_prediction_races = df_stats.groupby(df_stats.index)['accuracy_xgb'].max().sum()\n",
    "accuracy_xgb = (correct_prediction_races / total_races) * 100"
   ]
  },
  {
   "cell_type": "code",
   "execution_count": null,
   "metadata": {},
   "outputs": [],
   "source": [
    "\n",
    "print(f\"Précision basée sur les courses avec xgboost : {accuracy_xgb:.2f}%\")"
   ]
  },
  {
   "cell_type": "code",
   "execution_count": null,
   "metadata": {},
   "outputs": [],
   "source": [
    "df.head()"
   ]
  },
  {
   "cell_type": "markdown",
   "metadata": {},
   "source": [
    "Stats and Expectancy"
   ]
  },
  {
   "cell_type": "code",
   "execution_count": null,
   "metadata": {},
   "outputs": [],
   "source": [
    "K = 2.5\n",
    "\n",
    "dfe = df[['horse_id','won','win_odds','place_odds','y_predict']]\n",
    "dfe['profitable_bet_win'] = (dfe['y_predict']>1/dfe['win_odds'])\n",
    "dfe['profitable_bet_place'] = ((df['y_predict'] * K).clip(upper=1.0)>1/dfe['place_odds'])\n",
    "dfe.head(24)"
   ]
  },
  {
   "cell_type": "markdown",
   "metadata": {},
   "source": [
    "Calculer les profits de base"
   ]
  },
  {
   "cell_type": "markdown",
   "metadata": {},
   "source": []
  }
 ],
 "metadata": {
  "kernelspec": {
   "display_name": ".venv",
   "language": "python",
   "name": "python3"
  },
  "language_info": {
   "codemirror_mode": {
    "name": "ipython",
    "version": 3
   },
   "file_extension": ".py",
   "mimetype": "text/x-python",
   "name": "python",
   "nbconvert_exporter": "python",
   "pygments_lexer": "ipython3",
   "version": "3.11.8"
  }
 },
 "nbformat": 4,
 "nbformat_minor": 2
}
