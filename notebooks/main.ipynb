{
 "cells": [
  {
   "cell_type": "code",
   "execution_count": null,
   "metadata": {},
   "outputs": [
    {
     "name": "stdout",
     "output_type": "stream",
     "text": [
      "✅ Chemins disponibles : ['c:\\\\Users\\\\Utilisateur\\\\Desktop\\\\Projets python\\\\horse_racing\\\\.venv\\\\Scripts\\\\python313.zip', 'C:\\\\Users\\\\Utilisateur\\\\AppData\\\\Local\\\\Programs\\\\Python\\\\Python313\\\\DLLs', 'C:\\\\Users\\\\Utilisateur\\\\AppData\\\\Local\\\\Programs\\\\Python\\\\Python313\\\\Lib', 'C:\\\\Users\\\\Utilisateur\\\\AppData\\\\Local\\\\Programs\\\\Python\\\\Python313', 'c:\\\\Users\\\\Utilisateur\\\\Desktop\\\\Projets python\\\\horse_racing\\\\.venv', '', 'c:\\\\Users\\\\Utilisateur\\\\Desktop\\\\Projets python\\\\horse_racing\\\\.venv\\\\Lib\\\\site-packages', 'c:\\\\Users\\\\Utilisateur\\\\Desktop\\\\Projets python\\\\horse_racing\\\\.venv\\\\Lib\\\\site-packages\\\\win32', 'c:\\\\Users\\\\Utilisateur\\\\Desktop\\\\Projets python\\\\horse_racing\\\\.venv\\\\Lib\\\\site-packages\\\\win32\\\\lib', 'c:\\\\Users\\\\Utilisateur\\\\Desktop\\\\Projets python\\\\horse_racing\\\\.venv\\\\Lib\\\\site-packages\\\\Pythonwin', 'c:\\\\Users\\\\Utilisateur\\\\Desktop\\\\Projets python\\\\horse_racing\\\\notebooks\\\\src', 'c:\\\\Users\\\\Utilisateur\\\\Desktop\\\\Projets python\\\\horse_racing\\\\notebooks\\\\src', 'c:\\\\Users\\\\Utilisateur\\\\Desktop\\\\Projets python\\\\horse_racing\\\\notebooks\\\\src', 'c:\\\\Users\\\\Utilisateur\\\\Desktop\\\\Projets python\\\\horse_racing\\\\notebooks\\\\src', 'c:\\\\Users\\\\Utilisateur\\\\Desktop\\\\Projets python\\\\horse_racing\\\\notebooks\\\\src', 'c:\\\\Users\\\\Utilisateur\\\\Desktop\\\\Projets python\\\\horse_racing\\\\notebooks\\\\src', 'c:\\\\Users\\\\Utilisateur\\\\Desktop\\\\Projets python\\\\horse_racing\\\\src', 'c:\\\\Users\\\\Utilisateur\\\\Desktop\\\\Projets python\\\\horse_racing\\\\src', 'c:\\\\Users\\\\Utilisateur\\\\Desktop\\\\Projets python\\\\horse_racing\\\\src', 'c:\\\\Users\\\\Utilisateur\\\\Desktop\\\\Projets python\\\\horse_racing\\\\src', 'c:\\\\Users\\\\Utilisateur\\\\Desktop\\\\Projets python\\\\horse_racing\\\\src', 'c:\\\\Users\\\\Utilisateur\\\\Desktop\\\\Projets python\\\\horse_racing\\\\src', 'c:\\\\Users\\\\Utilisateur\\\\Desktop\\\\Projets python\\\\horse_racing\\\\src', 'c:\\\\Users\\\\Utilisateur\\\\Desktop\\\\Projets python\\\\horse_racing\\\\src', 'c:\\\\Users\\\\Utilisateur\\\\Desktop\\\\Projets python\\\\horse_racing\\\\src', 'c:\\\\Users\\\\Utilisateur\\\\Desktop\\\\Projets python\\\\horse_racing\\\\src', 'c:\\\\Users\\\\Utilisateur\\\\Desktop\\\\Projets python\\\\horse_racing\\\\src', 'c:\\\\Users\\\\Utilisateur\\\\Desktop\\\\Projets python\\\\horse_racing\\\\src']\n",
      "📥 Chargement des données...\n",
      "🧼 Nettoyage des données...\n",
      "⚙️ Prétraitement des données...\n",
      "📊 Séparation des données...\n",
      "🚀 Entraînement du modèle de régression linéaire...\n"
     ]
    },
    {
     "name": "stderr",
     "output_type": "stream",
     "text": [
      "c:\\Users\\Utilisateur\\Desktop\\Projets python\\horse_racing\\src\\data_processing\\preprocess_data.py:7: FutureWarning: A value is trying to be set on a copy of a DataFrame or Series through chained assignment using an inplace method.\n",
      "The behavior will change in pandas 3.0. This inplace method will never work because the intermediate object on which we are setting values always behaves as a copy.\n",
      "\n",
      "For example, when doing 'df[col].method(value, inplace=True)', try using 'df.method({col: value}, inplace=True)' or df[col] = df[col].method(value) instead, to perform the operation inplace on the original object.\n",
      "\n",
      "\n",
      "  df['place_odds'].fillna(0, inplace=True)\n"
     ]
    },
    {
     "ename": "FileNotFoundError",
     "evalue": "[Errno 2] No such file or directory: 'models/linear_regression.pkl'",
     "output_type": "error",
     "traceback": [
      "\u001b[31m---------------------------------------------------------------------------\u001b[39m",
      "\u001b[31mFileNotFoundError\u001b[39m                         Traceback (most recent call last)",
      "\u001b[36mCell\u001b[39m\u001b[36m \u001b[39m\u001b[32mIn[29]\u001b[39m\u001b[32m, line 55\u001b[39m\n\u001b[32m     53\u001b[39m \u001b[38;5;66;03m# 🤖 5️⃣ Entraînement du modèle\u001b[39;00m\n\u001b[32m     54\u001b[39m \u001b[38;5;28mprint\u001b[39m(\u001b[33m\"\u001b[39m\u001b[33m🚀 Entraînement du modèle de régression linéaire...\u001b[39m\u001b[33m\"\u001b[39m)\n\u001b[32m---> \u001b[39m\u001b[32m55\u001b[39m \u001b[43mtrain_linear_regression\u001b[49m\u001b[43m(\u001b[49m\u001b[43mX_train\u001b[49m\u001b[43m,\u001b[49m\u001b[43m \u001b[49m\u001b[43my_train\u001b[49m\u001b[43m)\u001b[49m\n\u001b[32m     57\u001b[39m \u001b[38;5;66;03m# 🔍 6️⃣ Prédiction et évaluation\u001b[39;00m\n\u001b[32m     58\u001b[39m y_predict = df_test[\u001b[33m\"\u001b[39m\u001b[33mwon\u001b[39m\u001b[33m\"\u001b[39m].sample(frac=\u001b[32m1\u001b[39m).values  \u001b[38;5;66;03m# Remplacer par une vraie prédiction\u001b[39;00m\n",
      "\u001b[36mFile \u001b[39m\u001b[32mc:\\Users\\Utilisateur\\Desktop\\Projets python\\horse_racing\\src\\models\\linear_regression.py:7\u001b[39m, in \u001b[36mtrain_linear_regression\u001b[39m\u001b[34m(X_train, y_train)\u001b[39m\n\u001b[32m      5\u001b[39m model = LinearRegression()\n\u001b[32m      6\u001b[39m model.fit(X_train, y_train)\n\u001b[32m----> \u001b[39m\u001b[32m7\u001b[39m \u001b[43mjoblib\u001b[49m\u001b[43m.\u001b[49m\u001b[43mdump\u001b[49m\u001b[43m(\u001b[49m\u001b[43mmodel\u001b[49m\u001b[43m,\u001b[49m\u001b[43m \u001b[49m\u001b[33;43m\"\u001b[39;49m\u001b[33;43mmodels/linear_regression.pkl\u001b[39;49m\u001b[33;43m\"\u001b[39;49m\u001b[43m)\u001b[49m\n\u001b[32m      8\u001b[39m \u001b[38;5;28mprint\u001b[39m(\u001b[33m\"\u001b[39m\u001b[33mSuccessfully trained linear_regression model\u001b[39m\u001b[33m\"\u001b[39m)\n",
      "\u001b[36mFile \u001b[39m\u001b[32mc:\\Users\\Utilisateur\\Desktop\\Projets python\\horse_racing\\.venv\\Lib\\site-packages\\joblib\\numpy_pickle.py:552\u001b[39m, in \u001b[36mdump\u001b[39m\u001b[34m(value, filename, compress, protocol, cache_size)\u001b[39m\n\u001b[32m    550\u001b[39m         NumpyPickler(f, protocol=protocol).dump(value)\n\u001b[32m    551\u001b[39m \u001b[38;5;28;01melif\u001b[39;00m is_filename:\n\u001b[32m--> \u001b[39m\u001b[32m552\u001b[39m     \u001b[38;5;28;01mwith\u001b[39;00m \u001b[38;5;28;43mopen\u001b[39;49m\u001b[43m(\u001b[49m\u001b[43mfilename\u001b[49m\u001b[43m,\u001b[49m\u001b[43m \u001b[49m\u001b[33;43m'\u001b[39;49m\u001b[33;43mwb\u001b[39;49m\u001b[33;43m'\u001b[39;49m\u001b[43m)\u001b[49m \u001b[38;5;28;01mas\u001b[39;00m f:\n\u001b[32m    553\u001b[39m         NumpyPickler(f, protocol=protocol).dump(value)\n\u001b[32m    554\u001b[39m \u001b[38;5;28;01melse\u001b[39;00m:\n",
      "\u001b[31mFileNotFoundError\u001b[39m: [Errno 2] No such file or directory: 'models/linear_regression.pkl'"
     ]
    }
   ],
   "source": [
    "# 📌 Notebook Principal - `main.ipynb`\n",
    "# Exécute tout le pipeline : chargement des données, nettoyage, entraînement, et évaluation\n",
    "\n",
    "import sys\n",
    "import os\n",
    "\n",
    "# Aller au dossier racine du projet\n",
    "project_root = os.path.abspath(\"..\")  # Remonte au dossier principal du projet\n",
    "src_path = os.path.join(project_root, \"src\")\n",
    "\n",
    "# Ajouter le chemin src/ au path Python (évite les doublons)\n",
    "if src_path not in sys.path:\n",
    "    sys.path.append(src_path)\n",
    "\n",
    "# Vérifier le chemin\n",
    "print(\"✅ Chemins disponibles :\", sys.path)\n",
    "\n",
    "import pandas as pd\n",
    "\n",
    "\n",
    "# Importer les modules après ajout du chemin\n",
    "from data_processing.load_data import load_data\n",
    "from data_processing.clean_data import clean_data_runs, clean_data_races, clean_before_fitting\n",
    "from data_processing.merge_data import merge_data\n",
    "from data_processing.preprocess_data import preprocess_data, split_train_test\n",
    "from ml_models.linear_regression import train_linear_regression\n",
    "from ml_models.performance_metrics import compute_accuracy\n",
    "\n",
    "\n",
    "# 📂 1️⃣ Charger les datasets\n",
    "print(\"📥 Chargement des données...\")\n",
    "df_runs = load_data(\"../data/raw/runs.csv\")\n",
    "df_races = load_data(\"../data/raw/races.csv\")\n",
    "\n",
    "# 🧹 2️⃣ Nettoyage des données\n",
    "print(\"🧼 Nettoyage des données...\")\n",
    "clean_data_runs(df_runs)\n",
    "clean_data_races(df_races)\n",
    "\n",
    "df = merge_data(df_runs, df_races)\n",
    "clean_before_fitting(df)\n",
    "\n",
    "# 🔄 3️⃣ Prétraitement des données\n",
    "print(\"⚙️ Prétraitement des données...\")\n",
    "df = preprocess_data(df)\n",
    "\n",
    "# ✂️ 4️⃣ Split en train/test\n",
    "print(\"📊 Séparation des données...\")\n",
    "y_train, y_test, X_train, X_test, df_train, df_test = split_train_test(df, train_ratio=0.8)\n",
    "\n",
    "df_test_original = df_test.copy()\n",
    "\n",
    "# 🤖 5️⃣ Entraînement du modèle\n",
    "print(\"🚀 Entraînement du modèle de régression linéaire...\")\n",
    "train_linear_regression(X_train, y_train)\n",
    "\n",
    "# 🔍 6️⃣ Prédiction et évaluation\n",
    "y_predict = df_test[\"won\"].sample(frac=1).values  # Remplacer par une vraie prédiction\n",
    "df_stats = compute_accuracy(df_test_original, y_predict)\n",
    "\n",
    "accuracy = (df_stats['top_prediction'] == df_stats['won']).mean() * 100\n",
    "print(f\"✅ Précision du modèle : {accuracy:.2f}%\")\n"
   ]
  }
 ],
 "metadata": {
  "kernelspec": {
   "display_name": ".venv",
   "language": "python",
   "name": "python3"
  },
  "language_info": {
   "codemirror_mode": {
    "name": "ipython",
    "version": 3
   },
   "file_extension": ".py",
   "mimetype": "text/x-python",
   "name": "python",
   "nbconvert_exporter": "python",
   "pygments_lexer": "ipython3",
   "version": "3.13.0"
  }
 },
 "nbformat": 4,
 "nbformat_minor": 2
}
