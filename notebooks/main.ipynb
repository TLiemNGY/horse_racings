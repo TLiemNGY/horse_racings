{
 "cells": [
  {
   "cell_type": "code",
   "execution_count": 7,
   "metadata": {},
   "outputs": [],
   "source": [
    "import warnings\n",
    "warnings.simplefilter(action='ignore', category=FutureWarning)\n",
    "warnings.simplefilter(action='ignore', category=pd.errors.SettingWithCopyWarning)\n"
   ]
  },
  {
   "cell_type": "code",
   "execution_count": 8,
   "metadata": {},
   "outputs": [],
   "source": [
    "import sys\n",
    "import os\n",
    "import pandas as pd\n",
    "import joblib\n",
    "\n",
    "from data_processing.load_data import load_data\n",
    "from data_processing.clean_data import clean_data_runs, clean_data_races, clean_before_fitting\n",
    "from data_processing.merge_data import merge_data\n",
    "from data_processing.preprocess_data import preprocess_data, split_train_test\n",
    "from ml_models.linear_regression import train_linear_regression\n",
    "from metrics.performance_metrics import prepare_predictions, compute_top_prediction, finalize_dataframe, compute_accuracy"
   ]
  },
  {
   "cell_type": "code",
   "execution_count": 9,
   "metadata": {},
   "outputs": [],
   "source": [
    "# Aller au dossier racine du projet\n",
    "project_root = os.path.abspath(\"..\")  # Remonte au dossier principal du projet\n",
    "src_path = os.path.join(project_root, \"src\")\n",
    "\n",
    "# Ajouter le chemin src/ au path Python (évite les doublons)\n",
    "if src_path not in sys.path:\n",
    "    sys.path.append(src_path)\n",
    "\n",
    "# Prédictions\n",
    "model_path = os.path.abspath(os.path.join(\"..\", \"models\", \"linear_regression.pkl\"))\n",
    "model = joblib.load(model_path)"
   ]
  },
  {
   "cell_type": "code",
   "execution_count": null,
   "metadata": {},
   "outputs": [
    {
     "name": "stdout",
     "output_type": "stream",
     "text": [
      "Chargement des données...\n",
      "Nettoyage des données...\n",
      "Prétraitement des données...\n",
      "Séparation des données...\n",
      "Entraînement du modèle de régression linéaire...\n",
      "Successfully trained linear_regression model\n",
      "✅ Précision basée sur les courses : 23.88%\n"
     ]
    }
   ],
   "source": [
    "\n",
    "\n",
    "\n",
    "# Charger les datasets\n",
    "print(\"Chargement des données...\")\n",
    "df_runs = load_data(\"../data/raw/runs.csv\")\n",
    "df_races = load_data(\"../data/raw/races.csv\")\n",
    "\n",
    "# Nettoyage des données\n",
    "print(\"Nettoyage des données...\")\n",
    "clean_data_runs(df_runs)\n",
    "clean_data_races(df_races)\n",
    "\n",
    "df = merge_data(df_runs, df_races)\n",
    "clean_before_fitting(df)\n",
    "\n",
    "# Prétraitement des données\n",
    "print(\"Prétraitement des données...\")\n",
    "df = preprocess_data(df)\n",
    "\n",
    "# Split en train/test\n",
    "print(\"Séparation des données...\")\n",
    "y_train, y_test, X_train, X_test, df_train, df_test = split_train_test(df, train_ratio=0.8)\n",
    "\n",
    "df_test_original = df_test.copy()\n",
    "\n",
    "# Entraînement du modèle\n",
    "print(\"Entraînement du modèle de régression linéaire...\")\n",
    "train_linear_regression(X_train, y_train)\n",
    "\n",
    "# Faire des prédictions sur X_test\n",
    "y_predict = model.predict(X_test)\n",
    "\n",
    "# Prédiction et évaluation\n",
    "df = prepare_predictions(df_test_original, y_predict)\n",
    "df = compute_top_prediction(df)\n",
    "df_stats = finalize_dataframe(df)\n",
    "\n",
    "accuracy = compute_accuracy(df_stats)\n",
    "\n",
    "print(f\"✅ Précision basée sur les courses : {accuracy:.2f}%\")"
   ]
  }
 ],
 "metadata": {
  "kernelspec": {
   "display_name": ".venv",
   "language": "python",
   "name": "python3"
  },
  "language_info": {
   "codemirror_mode": {
    "name": "ipython",
    "version": 3
   },
   "file_extension": ".py",
   "mimetype": "text/x-python",
   "name": "python",
   "nbconvert_exporter": "python",
   "pygments_lexer": "ipython3",
   "version": "3.13.0"
  }
 },
 "nbformat": 4,
 "nbformat_minor": 2
}
