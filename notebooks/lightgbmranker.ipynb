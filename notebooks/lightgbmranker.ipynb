{
 "cells": [
  {
   "cell_type": "code",
   "execution_count": 1,
   "metadata": {},
   "outputs": [],
   "source": [
    "import sys\n",
    "import os\n",
    "import pandas as pd\n",
    "import warnings\n",
    "\n",
    "warnings.simplefilter(action='ignore', category=FutureWarning)\n",
    "warnings.simplefilter(action='ignore', category=pd.errors.SettingWithCopyWarning)"
   ]
  },
  {
   "cell_type": "code",
   "execution_count": 2,
   "metadata": {},
   "outputs": [],
   "source": [
    "# Aller au dossier racine du projet\n",
    "project_root = os.path.abspath(\"..\")  # Remonte au dossier principal du projet\n",
    "src_path = os.path.join(project_root, \"src\")\n",
    "\n",
    "# Ajouter le chemin src/ au path Python (évite les doublons)\n",
    "if src_path not in sys.path:\n",
    "    sys.path.append(src_path)"
   ]
  },
  {
   "cell_type": "code",
   "execution_count": 3,
   "metadata": {},
   "outputs": [
    {
     "name": "stderr",
     "output_type": "stream",
     "text": [
      "c:\\Users\\Utilisateur\\Desktop\\Projets python\\horse_racing\\.env\\Lib\\site-packages\\tqdm\\auto.py:21: TqdmWarning: IProgress not found. Please update jupyter and ipywidgets. See https://ipywidgets.readthedocs.io/en/stable/user_install.html\n",
      "  from .autonotebook import tqdm as notebook_tqdm\n"
     ]
    },
    {
     "name": "stdout",
     "output_type": "stream",
     "text": [
      "{'venue': 2, 'config': 6, 'race_class': 10, 'surface': 2, 'distance': 9, 'going': 10, 'horse_country': 16, 'horse_type': 9, 'trainer_id': 176, 'jockey_id': 186, 'horse_rating': 125, 'horse_ratings': 31, 'track_conditions': 36, 'specialized_trainer': 16806, 'distance_vs_age': 72, 'country_specificity': 594, 'distance_vs_weight': 270}\n",
      "Empty DataFrame\n",
      "Columns: []\n",
      "Index: []\n"
     ]
    },
    {
     "ename": "KeyError",
     "evalue": "'race_id'",
     "output_type": "error",
     "traceback": [
      "\u001b[31m---------------------------------------------------------------------------\u001b[39m",
      "\u001b[31mKeyError\u001b[39m                                  Traceback (most recent call last)",
      "\u001b[36mCell\u001b[39m\u001b[36m \u001b[39m\u001b[32mIn[3]\u001b[39m\u001b[32m, line 2\u001b[39m\n\u001b[32m      1\u001b[39m \u001b[38;5;28;01mfrom\u001b[39;00m\u001b[38;5;250m \u001b[39m\u001b[34;01mml_models\u001b[39;00m\u001b[34;01m.\u001b[39;00m\u001b[34;01mpipeline_for_pairwise\u001b[39;00m\u001b[38;5;250m \u001b[39m\u001b[38;5;28;01mimport\u001b[39;00m run_pairwise_pipeline\n\u001b[32m----> \u001b[39m\u001b[32m2\u001b[39m df_train, df_test = \u001b[43mrun_pairwise_pipeline\u001b[49m\u001b[43m(\u001b[49m\u001b[43mmodel_name\u001b[49m\u001b[43m=\u001b[49m\u001b[33;43m'\u001b[39;49m\u001b[33;43mlgbm\u001b[39;49m\u001b[33;43m'\u001b[39;49m\u001b[43m,\u001b[49m\u001b[43m \u001b[49m\u001b[43muse_feature_engineering\u001b[49m\u001b[43m=\u001b[49m\u001b[38;5;28;43;01mTrue\u001b[39;49;00m\u001b[43m,\u001b[49m\u001b[43muse_bet_odds\u001b[49m\u001b[43m=\u001b[49m\u001b[38;5;28;43;01mTrue\u001b[39;49;00m\u001b[43m)\u001b[49m\n\u001b[32m      4\u001b[39m \u001b[38;5;66;03m#model, df_pairwise, df_test = run_pairwise_pipeline(model_name='lgbm', use_feature_engineering=True,use_bet_odds=True)\u001b[39;00m\n",
      "\u001b[36mFile \u001b[39m\u001b[32mc:\\Users\\Utilisateur\\Desktop\\Projets python\\horse_racing\\src\\ml_models\\pipeline_for_pairwise.py:45\u001b[39m, in \u001b[36mrun_pairwise_pipeline\u001b[39m\u001b[34m(model_name, use_feature_engineering, use_bet_odds)\u001b[39m\n\u001b[32m     42\u001b[39m \u001b[38;5;28mprint\u001b[39m(df_pairwise)\n\u001b[32m     44\u001b[39m \u001b[38;5;66;03m# Split races proprement\u001b[39;00m\n\u001b[32m---> \u001b[39m\u001b[32m45\u001b[39m df_train, df_test = \u001b[43msplit_pairwise_by_race\u001b[49m\u001b[43m(\u001b[49m\u001b[43mdf_pairwise\u001b[49m\u001b[43m,\u001b[49m\u001b[43m \u001b[49m\u001b[43mtrain_ratio\u001b[49m\u001b[43m=\u001b[49m\u001b[32;43m0.8\u001b[39;49m\u001b[43m)\u001b[49m\n\u001b[32m     46\u001b[39m df_test_original = df_test.copy()\n\u001b[32m     48\u001b[39m \u001b[38;5;28;01mreturn\u001b[39;00m df_test, df_train, df_test_original\n",
      "\u001b[36mFile \u001b[39m\u001b[32mc:\\Users\\Utilisateur\\Desktop\\Projets python\\horse_racing\\src\\data_processing\\pairwise_approach_utils.py:29\u001b[39m, in \u001b[36msplit_pairwise_by_race\u001b[39m\u001b[34m(df_pairwise, train_ratio)\u001b[39m\n\u001b[32m     28\u001b[39m \u001b[38;5;28;01mdef\u001b[39;00m\u001b[38;5;250m \u001b[39m\u001b[34msplit_pairwise_by_race\u001b[39m(df_pairwise, train_ratio):\n\u001b[32m---> \u001b[39m\u001b[32m29\u001b[39m     unique_races = \u001b[43mdf_pairwise\u001b[49m\u001b[43m[\u001b[49m\u001b[33;43m'\u001b[39;49m\u001b[33;43mrace_id\u001b[39;49m\u001b[33;43m'\u001b[39;49m\u001b[43m]\u001b[49m.unique()\n\u001b[32m     30\u001b[39m     split_index = \u001b[38;5;28mint\u001b[39m(\u001b[38;5;28mlen\u001b[39m(unique_races) * train_ratio)\n\u001b[32m     32\u001b[39m     train_races = unique_races[:split_index]\n",
      "\u001b[36mFile \u001b[39m\u001b[32mc:\\Users\\Utilisateur\\Desktop\\Projets python\\horse_racing\\.env\\Lib\\site-packages\\pandas\\core\\frame.py:4102\u001b[39m, in \u001b[36mDataFrame.__getitem__\u001b[39m\u001b[34m(self, key)\u001b[39m\n\u001b[32m   4100\u001b[39m \u001b[38;5;28;01mif\u001b[39;00m \u001b[38;5;28mself\u001b[39m.columns.nlevels > \u001b[32m1\u001b[39m:\n\u001b[32m   4101\u001b[39m     \u001b[38;5;28;01mreturn\u001b[39;00m \u001b[38;5;28mself\u001b[39m._getitem_multilevel(key)\n\u001b[32m-> \u001b[39m\u001b[32m4102\u001b[39m indexer = \u001b[38;5;28;43mself\u001b[39;49m\u001b[43m.\u001b[49m\u001b[43mcolumns\u001b[49m\u001b[43m.\u001b[49m\u001b[43mget_loc\u001b[49m\u001b[43m(\u001b[49m\u001b[43mkey\u001b[49m\u001b[43m)\u001b[49m\n\u001b[32m   4103\u001b[39m \u001b[38;5;28;01mif\u001b[39;00m is_integer(indexer):\n\u001b[32m   4104\u001b[39m     indexer = [indexer]\n",
      "\u001b[36mFile \u001b[39m\u001b[32mc:\\Users\\Utilisateur\\Desktop\\Projets python\\horse_racing\\.env\\Lib\\site-packages\\pandas\\core\\indexes\\range.py:417\u001b[39m, in \u001b[36mRangeIndex.get_loc\u001b[39m\u001b[34m(self, key)\u001b[39m\n\u001b[32m    415\u001b[39m         \u001b[38;5;28;01mraise\u001b[39;00m \u001b[38;5;167;01mKeyError\u001b[39;00m(key) \u001b[38;5;28;01mfrom\u001b[39;00m\u001b[38;5;250m \u001b[39m\u001b[34;01merr\u001b[39;00m\n\u001b[32m    416\u001b[39m \u001b[38;5;28;01mif\u001b[39;00m \u001b[38;5;28misinstance\u001b[39m(key, Hashable):\n\u001b[32m--> \u001b[39m\u001b[32m417\u001b[39m     \u001b[38;5;28;01mraise\u001b[39;00m \u001b[38;5;167;01mKeyError\u001b[39;00m(key)\n\u001b[32m    418\u001b[39m \u001b[38;5;28mself\u001b[39m._check_indexing_error(key)\n\u001b[32m    419\u001b[39m \u001b[38;5;28;01mraise\u001b[39;00m \u001b[38;5;167;01mKeyError\u001b[39;00m(key)\n",
      "\u001b[31mKeyError\u001b[39m: 'race_id'"
     ]
    }
   ],
   "source": [
    "from ml_models.pipeline_for_pairwise import run_pairwise_pipeline\n",
    "df_train, df_test = run_pairwise_pipeline(model_name='lgbm', use_feature_engineering=True,use_bet_odds=True)\n",
    "\n",
    "#model, df_pairwise, df_test = run_pairwise_pipeline(model_name='lgbm', use_feature_engineering=True,use_bet_odds=True)\n"
   ]
  },
  {
   "cell_type": "code",
   "execution_count": null,
   "metadata": {},
   "outputs": [],
   "source": [
    "df_train.head()"
   ]
  },
  {
   "cell_type": "code",
   "execution_count": null,
   "metadata": {},
   "outputs": [],
   "source": [
    "df_test.info()"
   ]
  }
 ],
 "metadata": {
  "kernelspec": {
   "display_name": ".env",
   "language": "python",
   "name": "python3"
  },
  "language_info": {
   "codemirror_mode": {
    "name": "ipython",
    "version": 3
   },
   "file_extension": ".py",
   "mimetype": "text/x-python",
   "name": "python",
   "nbconvert_exporter": "python",
   "pygments_lexer": "ipython3",
   "version": "3.11.7"
  }
 },
 "nbformat": 4,
 "nbformat_minor": 2
}
